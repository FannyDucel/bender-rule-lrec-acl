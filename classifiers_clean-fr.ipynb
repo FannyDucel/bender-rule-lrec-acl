{
 "cells": [
  {
   "cell_type": "code",
   "execution_count": 1,
   "metadata": {},
   "outputs": [
    {
     "name": "stderr",
     "output_type": "stream",
     "text": [
      "C:\\Users\\Fanny\\Anaconda3-2\\lib\\site-packages\\pandas\\compat\\_optional.py:138: UserWarning: Pandas requires version '2.7.0' or newer of 'numexpr' (version '2.6.8' currently installed).\n",
      "  warnings.warn(msg, UserWarning)\n"
     ]
    }
   ],
   "source": [
    "from nltk.tokenize import word_tokenize\n",
    "import pandas as pd\n",
    "def read_file(path):\n",
    "    with open(path, encoding=\"utf-8\", errors=\"ignore\") as f:\n",
    "        chaine = f.read()\n",
    "    return chaine\n",
    "\n",
    "def get_list_lang(lang=\"fr\"):\n",
    "    liste_langues_fr_txt = read_file(f\"liste_langues_{lang}.txt\")\n",
    "    liste_langues_fr_txt = liste_langues_fr_txt.replace(\"\\n\",\",\")\n",
    "    liste_langues_fr_txt = liste_langues_fr_txt.replace(\"  \",\"\")\n",
    "    liste_langues_fr_txt = liste_langues_fr_txt.replace('\"',\"\")\n",
    "    liste_langues_fr_txt = liste_langues_fr_txt.lower()\n",
    "    liste_langues_fr_txt = liste_langues_fr_txt.split(\",\")\n",
    "    return liste_langues_fr_txt\n",
    "\n",
    "def br_appliquee(liste_chemins,liste_langues,langue=\"french\"):\n",
    "    \"\"\"Prend en entrée la liste de chemins des articles -créée avec la fonction chemin_corpus(chemin)- \n",
    "    + la liste de langues -créée avec la fonction liste_langues(fichierjson)\n",
    "    Renvoie un dictionnaire de dictionnaires de forme {chemin: {langue_citée: nb_occurrence}}\"\"\"\n",
    "    \n",
    "    dico_br_app = {}\n",
    "    for chemin in liste_chemins:\n",
    "        chemin_propre = chemin.split(\"\\\\\")[-1]\n",
    "        chaine = read_file(chemin).lower()\n",
    "        chaine_l_propre = re.sub(r'[^\\w]',' ', chaine)\n",
    "        liste_mots_tok = word_tokenize(chaine_l_propre, language=langue)\n",
    "        \n",
    "        for mot in liste_mots_tok:\n",
    "            for lg in liste_langues:\n",
    "                if mot == lg:\n",
    "                    dico_br_app.setdefault(chemin_propre, {})\n",
    "                    dico_br_app[chemin_propre].setdefault(lg, 0)\n",
    "                    dico_br_app[chemin_propre][lg]+=1\n",
    "\n",
    "    return dico_br_app\n",
    "def chemin_corpus(chemin_dossier,langue=\"fr\",taln_ou_acl=\"taln\"):\n",
    "    \"\"\"Prend en entrée le chemin du corpus (\"archives_Boudin_txt/*/*/actes/*\")\n",
    "    Renvoie une liste contenant les chemins des articles en français\"\"\"\n",
    "    \n",
    "    liste_chemins = []\n",
    "\n",
    "    for chemin in glob.glob(chemin_dossier):\n",
    "        chaine = read_file(chemin)\n",
    "        if detect(chaine)==langue:\n",
    "            ###POUR EXCLURE LES DOCUMENTS QUI NE SONT PAS VRAIMENT ARTICLES (souvent très courts)\n",
    "            if taln_ou_acl==\"taln\":\n",
    "                tirets = chemin.split(\"-\")\n",
    "                #if len(tirets)>1:\n",
    "                type_art = tirets[-2]\n",
    "                if type_art != \"demo\" and type_art !=\"invite\":\n",
    "                    liste_chemins.append(chemin)\n",
    "            if taln_ou_acl==\"acl\":\n",
    "                if \"P\" in chemin:\n",
    "                    if \"the\" in chaine:\n",
    "                        liste_chemins.append(chemin)\n",
    "                        \n",
    "            if taln_ou_acl==\"lrec\":\n",
    "                if \"the\" in chaine:\n",
    "                    liste_chemins.append(chemin)\n",
    "            \n",
    "    return liste_chemins\n",
    "\n",
    "def chemins_annotes(fichier_csv, cas_bender,nbheader=2,taln_ou_acl=\"taln\"):\n",
    "    \"\"\"Prend en entrée le chemin vers le fichier csv qui contient le tableau d'annotation manuelle (\"annotation_csv.csv\")\n",
    "    + le cas de figure d'application de la règle de Bender ('Appliquée', 'Non-appliquée', ...)\n",
    "    + le nb_header à préciser ntmt pour langue traitée car une ligne en-dessous \n",
    "    Retourne la liste des chemins d'articles concernés\"\"\"\n",
    "    \n",
    "    dataset = pd.read_csv(fichier_csv,header=nbheader)\n",
    "    annotes_cas = dataset.loc[dataset[cas_bender].notnull()]\n",
    "    liste_annotes_cas = list(annotes_cas.iloc[:,1].values)\n",
    "    if taln_ou_acl == \"taln\":\n",
    "        url = \"http://talnarchives.atala.org/TALN/\"\n",
    "    if taln_ou_acl == \"acl\":\n",
    "        url = \"https://aclanthology.org/\"\n",
    "    if taln_ou_acl == \"lrec\":\n",
    "        url = \"http://www.lrec-conf.org/proceedings/\"\n",
    "    \n",
    "    chemins_annotes_cas = []\n",
    "    for chemin in liste_annotes_cas:\n",
    "        if type(chemin)==str:\n",
    "            if url not in chemin and taln_ou_acl==\"lrec\":\n",
    "                chemin = \"http://www.lrec-conf.org/proceedings/\"+chemin\n",
    "            if url in chemin:\n",
    "                dossiers = chemin.split(\"/\")\n",
    "                chemin_propre = dossiers[-1]\n",
    "                chemin_propre = chemin_propre.replace(\".pdf\",\".txt\")\n",
    "                chemins_annotes_cas.append(chemin_propre)\n",
    "                \n",
    "    return chemins_annotes_cas"
   ]
  },
  {
   "cell_type": "code",
   "execution_count": 2,
   "metadata": {},
   "outputs": [],
   "source": [
    "#from tools_FD import *\n",
    "from langdetect import detect\n",
    "import glob\n",
    "import re"
   ]
  },
  {
   "cell_type": "code",
   "execution_count": 3,
   "metadata": {},
   "outputs": [],
   "source": [
    "def dico_br_appliquee_phrases(liste_chemins_annotes,liste_langues,chemins_annotes_appliquee):#,langue=\"french\"):\n",
    "    #faire deux dicos : \n",
    "#un où on envoie les phrases qui contiennent un nom de langue qui est bien la langue étudiée (annotée manuellement comme appliquée)\n",
    "#un où on envoie les phrases qui contiennent un nom de langue mais qui n'est pas la langue étudiée (annotée manuellement comme autre chose qu'appliquée)\n",
    "    dico_phrases_nomlg = {\"appliquée\":[], \"non-appliquée\": []}\n",
    "    stats = {}\n",
    "    for chemin in liste_chemins_annotes:\n",
    "            #nettoyer articles et chemins\n",
    "        chemin_propre = chemin.split(\"/\")[-1]\n",
    "        chaine = read_file(chemin).lower()\n",
    "        liste_phrases = chaine.split(\".\")\n",
    "        for phrase in liste_phrases:\n",
    "            for mot in phrase.split():\n",
    "                for l in liste_langues:\n",
    "                    if mot == l:\n",
    "                        stats.setdefault(mot, 0)\n",
    "                        stats[mot]+=1\n",
    "                        if chemin_propre in chemins_annotes_appliquee:\n",
    "                            if phrase not in dico_phrases_nomlg[\"appliquée\"]:\n",
    "                                dico_phrases_nomlg[\"appliquée\"].append(phrase)\n",
    "                        else: #if chemin_propre not in chemins_annotes_appliquee:\n",
    "                            if phrase not in dico_phrases_nomlg[\"non-appliquée\"]:\n",
    "                                dico_phrases_nomlg[\"non-appliquée\"].append(phrase)\n",
    "    L = [[eff, mot] for mot, eff in stats.items()]\n",
    "    print(sorted(L)[-10:])\n",
    "    return dico_phrases_nomlg\n",
    "\n",
    "liste_chemins_annotes_taln = chemin_corpus(\"articles_annotes/*/*\",\"fr\",\"taln\")\n",
    "liste_lang = get_list_lang(\"fr\")\n"
   ]
  },
  {
   "cell_type": "code",
   "execution_count": 4,
   "metadata": {},
   "outputs": [
    {
     "name": "stdout",
     "output_type": "stream",
     "text": [
      "[[13, 'vote'], [15, 'espagnol'], [22, 'chinois'], [29, 'arabe'], [37, 'multilingue'], [64, 'allemand'], [70, 'tchèque'], [211, 'anglais'], [1038, 'français'], [1780, 'langues']]\n"
     ]
    }
   ],
   "source": [
    "dico_br_app_taln_a = br_appliquee(liste_chemins_annotes_taln,liste_lang,\"french\")\n",
    "data_annote_all = dico_br_appliquee_phrases(liste_chemins_annotes_taln,liste_lang, dico_br_app_taln_a)"
   ]
  },
  {
   "cell_type": "code",
   "execution_count": 6,
   "metadata": {},
   "outputs": [],
   "source": [
    "import json\n",
    "with open(\"data_classif133b.json\") as f:\n",
    "    data_annote = json.load(f)\n",
    "textes_fr = [x[0] for x in data_annote]\n",
    "classes_fr = [x[1] for x in data_annote]"
   ]
  },
  {
   "cell_type": "code",
   "execution_count": 7,
   "metadata": {},
   "outputs": [
    {
     "name": "stdout",
     "output_type": "stream",
     "text": [
      "LogReg_saga_pen=l1\n"
     ]
    },
    {
     "name": "stderr",
     "output_type": "stream",
     "text": [
      "C:\\Users\\Fanny\\Anaconda3-2\\lib\\site-packages\\sklearn\\linear_model\\sag.py:334: ConvergenceWarning: The max_iter was reached which means the coef_ did not converge\n",
      "  \"the coef_ did not converge\", ConvergenceWarning)\n"
     ]
    },
    {
     "name": "stdout",
     "output_type": "stream",
     "text": [
      "Tfidf ... 0.38 seconds\n",
      "               precision    recall  f1-score   support\n",
      "\n",
      "    appliquée       0.98      0.92      0.95       234\n",
      "non-appliquée       0.10      0.29      0.15         7\n",
      "\n",
      "    micro avg       0.90      0.90      0.90       241\n",
      "    macro avg       0.54      0.60      0.55       241\n",
      " weighted avg       0.95      0.90      0.93       241\n",
      "\n",
      "Count ... 0.54 seconds\n",
      "               precision    recall  f1-score   support\n",
      "\n",
      "    appliquée       0.97      0.94      0.96       234\n",
      "non-appliquée       0.07      0.14      0.10         7\n",
      "\n",
      "    micro avg       0.92      0.92      0.92       241\n",
      "    macro avg       0.52      0.54      0.53       241\n",
      " weighted avg       0.95      0.92      0.93       241\n",
      "\n",
      "LogReg_saga_pen=l2\n",
      "Tfidf ... 0.24 seconds\n",
      "               precision    recall  f1-score   support\n",
      "\n",
      "    appliquée       0.97      1.00      0.99       234\n",
      "non-appliquée       0.00      0.00      0.00         7\n",
      "\n",
      "    micro avg       0.97      0.97      0.97       241\n",
      "    macro avg       0.49      0.50      0.49       241\n",
      " weighted avg       0.94      0.97      0.96       241\n",
      "\n"
     ]
    },
    {
     "name": "stderr",
     "output_type": "stream",
     "text": [
      "C:\\Users\\Fanny\\Anaconda3-2\\lib\\site-packages\\sklearn\\metrics\\classification.py:1143: UndefinedMetricWarning: Precision and F-score are ill-defined and being set to 0.0 in labels with no predicted samples.\n",
      "  'precision', 'predicted', average, warn_for)\n"
     ]
    },
    {
     "name": "stdout",
     "output_type": "stream",
     "text": [
      "Count ... 0.22 seconds\n",
      "               precision    recall  f1-score   support\n",
      "\n",
      "    appliquée       0.97      0.98      0.97       234\n",
      "non-appliquée       0.00      0.00      0.00         7\n",
      "\n",
      "    micro avg       0.95      0.95      0.95       241\n",
      "    macro avg       0.49      0.49      0.49       241\n",
      " weighted avg       0.94      0.95      0.95       241\n",
      "\n"
     ]
    }
   ],
   "source": [
    "from sklearn.linear_model import LogisticRegression\n",
    "import time\n",
    "from sklearn.feature_extraction.text import CountVectorizer\n",
    "from sklearn.feature_extraction.text import TfidfVectorizer\n",
    "from sklearn.model_selection import train_test_split\n",
    "from sklearn.metrics import classification_report\n",
    "from sklearn.metrics import confusion_matrix\n",
    "from sklearn.metrics import precision_recall_fscore_support\n",
    "\n",
    "classifiers = []\n",
    "for pen in [\"l1\", \"l2\"]:#\"elasticnet\",\n",
    "    classifiers.append([\"LogReg_saga_pen=%s\"%pen, \n",
    "                        LogisticRegression(multi_class=\"auto\", solver=\"saga\", \n",
    "                                           max_iter=500, class_weight=\"balanced\",\n",
    "                                          penalty = pen)])\n",
    "\n",
    "    \n",
    "vectorizers=[\n",
    "    [\"Tfidf\",TfidfVectorizer()],\n",
    "    [\"Count\", CountVectorizer()]\n",
    "]\n",
    "for nom_classif, algo in classifiers:\n",
    "    print(nom_classif)\n",
    "    for name, V in vectorizers:\n",
    "        X1_fr = V.fit_transform(textes_fr)\n",
    "        Train_V = V.fit(textes_fr)\n",
    "        Y1_fr = classes_fr\n",
    "        X_train_fr, X_test_fr, y_train_fr, y_test_fr = train_test_split(X1_fr, Y1_fr, test_size=0.3, random_state=0)\n",
    "        start = time.perf_counter()\n",
    "        clf_fr = algo.fit(X_train_fr, y_train_fr)\n",
    "        end = time.perf_counter()\n",
    "        print(name, \"... %.2f seconds\"%(round(end-start,3)))\n",
    "        pred_fr = clf_fr.predict(X_test_fr)\n",
    "\n",
    "        conf_matrix_fr = confusion_matrix(y_test_fr, pred_fr)\n",
    "        report_fr = classification_report(y_test_fr,pred_fr)\n",
    "        print(report_fr)\n"
   ]
  },
  {
   "cell_type": "code",
   "execution_count": 8,
   "metadata": {},
   "outputs": [
    {
     "name": "stdout",
     "output_type": "stream",
     "text": [
      "TALN\n"
     ]
    }
   ],
   "source": [
    "with open(\"corpus_lremap.json\",encoding=\"utf-8\")as f:\n",
    "    names_LRE = json.load(f)\n",
    "    \n",
    "stats_LRE = {}\n",
    "#data_annote = [[\"ACL\", \"420-acl_annotation_bender.json\"], [\"LREC\", \"550-lrec_annotation_bender.json\"]]4\n",
    "data_annote = [[\"TALN\",\"annotation_taln.json\"]]\n",
    "resultats = {}\n",
    "for conf_name, json_path in data_annote:\n",
    "    print(conf_name)\n",
    "    resultats[conf_name] = {\"Sentence\":[], \"Baseline\":[], \"Baseline_LRE\":[], \"Sentence_LRE\":[]}\n",
    "    with open(json_path) as f:\n",
    "        dic_conf = json.load(f)\n",
    "    for path_article, infos_article in dic_conf.items():\n",
    "        classe = infos_article[\"class\"]\n",
    "        if classe ==\"Non-déductible\" or classe ==\"Non-Aplicable\":\n",
    "            classe=\"N/A\"\n",
    "        chaine = read_file(path_article)\n",
    "        has_LRE = False\n",
    "        for name in names_LRE:\n",
    "            if name in chaine:\n",
    "                has_LRE = True\n",
    "                stats_LRE.setdefault(name,0)\n",
    "                stats_LRE[name]+=1\n",
    "        chaine = chaine.lower()\n",
    "        phrases = chaine.split(\".\")\n",
    "        a_tester = []\n",
    "        for phrase in phrases:\n",
    "            for mot in phrase.split():\n",
    "                for l in liste_lang:\n",
    "                    if mot == l:\n",
    "                        a_tester.append(phrase)\n",
    "        if len(a_tester)>0:\n",
    "            pred_baseline = \"Appliquée\"\n",
    "            pred_LRE = pred_baseline\n",
    "            if classe ==\"Déductible\":#pour avoir aussi les déductibles\n",
    "                pred_baseline = classe\n",
    "            X_test2 = Train_V.transform(a_tester)\n",
    "            Y_pred2 = clf_fr.predict(X_test2)\n",
    "        else:\n",
    "            pred_baseline = \"N/A\"\n",
    "            Y_pred2= [[\"N/A\"]]\n",
    "            if has_LRE==True:\n",
    "                pred_LRE = \"Déductible\"\n",
    "            else:\n",
    "                pred_LRE = pred_baseline\n",
    "\n",
    "        NB_pos = len([x for x in Y_pred2 if x== \"appliquée\"])\n",
    "        if \"appliquée\" in Y_pred2:\n",
    "            pred_sentence = \"Appliquée\"\n",
    "            if classe ==\"Déductible\":#pour avoir aussi les déductibles\n",
    "                pred_sentence = classe\n",
    "        else:\n",
    "            pred_sentence = \"N/A\"\n",
    "        pred_sentence_LRE = pred_sentence\n",
    "        if pred_sentence!=\"Appliquée\":\n",
    "            if pred_LRE==\"Déductible\":\n",
    "                pred_sentence_LRE = pred_LRE\n",
    "            \"Sentence_LRE\"\n",
    "        resultats[conf_name][\"Sentence\"].append([classe, pred_sentence])\n",
    "        #, {\"Phr_lg\":len(a_tester), \"Phr_lg_pos\":NB_pos}])\n",
    "        resultats[conf_name][\"Baseline\"].append([classe, pred_baseline])\n",
    "        resultats[conf_name][\"Baseline_LRE\"].append([classe, pred_LRE])\n",
    "        resultats[conf_name][\"Sentence_LRE\"].append([classe, pred_sentence_LRE])\n"
   ]
  },
  {
   "cell_type": "code",
   "execution_count": 9,
   "metadata": {},
   "outputs": [
    {
     "name": "stdout",
     "output_type": "stream",
     "text": [
      "--------------------\n",
      "Sentence\n",
      "\n",
      "TALN SpearmanrResult(correlation=0.6110282391708873, pvalue=2.3703778353816496e-14)\n",
      "Applied\t\t & 0.9 & 0.947 & 0.923 & 95\\\\\n",
      "Deducible\t & 1.0 & 0.538 & 0.7 & 13\\\\\n",
      "N/A\t\t & 0.2 & 0.5 & 0.286 & 8\\\\\n",
      "macro avg\t & 0.525 & 0.496 & 0.477 & 127\\\\\n",
      "micro avg\t & 0.788 & 0.795 & 0.78 & 127\\\\\n",
      "--------------------\n",
      "Baseline\n",
      "\n",
      "TALN SpearmanrResult(correlation=0.44302828982052134, pvalue=1.8297752879229262e-07)\n",
      "Applied\t\t & 0.85 & 0.958 & 0.901 & 95\\\\\n",
      "Deducible\t & 1.0 & 0.615 & 0.762 & 13\\\\\n",
      "N/A\t\t & 0.167 & 0.25 & 0.2 & 8\\\\\n",
      "macro avg\t & 0.504 & 0.456 & 0.466 & 127\\\\\n",
      "micro avg\t & 0.749 & 0.795 & 0.765 & 127\\\\\n",
      "--------------------\n",
      "Baseline_LRE\n",
      "\n",
      "TALN SpearmanrResult(correlation=0.271258387838038, pvalue=0.0020372095726604823)\n",
      "Applied\t\t & 0.791 & 0.958 & 0.867 & 95\\\\\n",
      "Deducible\t & 0.714 & 0.385 & 0.5 & 13\\\\\n",
      "N/A\t\t & 0.4 & 0.25 & 0.308 & 8\\\\\n",
      "macro avg\t & 0.476 & 0.398 & 0.419 & 127\\\\\n",
      "micro avg\t & 0.69 & 0.772 & 0.719 & 127\\\\\n",
      "--------------------\n",
      "Sentence_LRE\n",
      "\n",
      "TALN SpearmanrResult(correlation=0.6209218674636628, pvalue=6.838548080775476e-15)\n",
      "Applied\t\t & 0.9 & 0.947 & 0.923 & 95\\\\\n",
      "Deducible\t & 0.857 & 0.923 & 0.889 & 13\\\\\n",
      "N/A\t\t & 0.308 & 0.5 & 0.381 & 8\\\\\n",
      "macro avg\t & 0.516 & 0.593 & 0.548 & 127\\\\\n",
      "micro avg\t & 0.78 & 0.835 & 0.805 & 127\\\\\n"
     ]
    },
    {
     "name": "stderr",
     "output_type": "stream",
     "text": [
      "C:\\Users\\Fanny\\Anaconda3-2\\lib\\site-packages\\scipy\\stats\\stats.py:245: RuntimeWarning: The input array could not be properly checked for nan values. nan values will be ignored.\n",
      "  \"values. nan values will be ignored.\", RuntimeWarning)\n"
     ]
    }
   ],
   "source": [
    "from scipy.stats import spearmanr\n",
    "#\"Sentence\":[], \"Baseline\":[], \"Baseline_LRE\":[]\n",
    "\n",
    "for class_name, dic_res_taln in resultats[\"TALN\"].items():\n",
    "    print(\"-\"*20)\n",
    "    print(class_name+\"\\n\")\n",
    "    y_test, y_pred = [x[0] for x in dic_res_taln], [x[1] for x in dic_res_taln]\n",
    "    report_taln = classification_report(y_test, y_pred, output_dict=True)\n",
    "    print(\"TALN\", str(spearmanr(y_test,y_pred)))\n",
    "    #print(report_lrec)\n",
    "#     dic_res_acl = resultats[\"ACL\"][class_name]\n",
    "#     y_test, y_pred = [x[0] for x in dic_res_acl], [x[1] for x in dic_res_acl]\n",
    "#     report_acl = classification_report(y_test, y_pred, output_dict=True)\n",
    "#     print(\"ACL\", str(spearmanr(y_test,y_pred)))\n",
    "    #print(report_acl)\n",
    "    dic_classes = {\"Appliquée\":\"Applied\\t\", \"Déductible\":\"Deducible\", \"N/A\":\"N/A\\t\", \"macro avg\":\"macro avg\", \"weighted avg\":\"micro avg\"}\n",
    "    for classe in [\"Appliquée\", \"Déductible\", \"N/A\", \"macro avg\", \"weighted avg\"]:\n",
    "        liste_ligne = [dic_classes[classe]+\"\\t\"]\n",
    "        for this_res in [report_taln]:\n",
    "            for mesure in [\"precision\", \"recall\", \"f1-score\"]:\n",
    "                liste_ligne.append(round(this_res[classe][mesure], 3))\n",
    "            liste_ligne.append(this_res[classe][\"support\"])\n",
    "        print(\" & \".join([str(x) for x in liste_ligne])+\"\\\\\\\\\")\n",
    "        \n"
   ]
  },
  {
   "cell_type": "code",
   "execution_count": 10,
   "metadata": {},
   "outputs": [
    {
     "name": "stdout",
     "output_type": "stream",
     "text": [
      "{'AAC': 41, 'RSC': 6, 'Automatic Content Extraction': 4, 'ESTER': 12, 'British National Corpus': 25, 'BNC': 25, 'UE': 67, 'ODIN': 1, 'EAGLE': 1, 'CID': 12, 'Le Monde': 12, 'AMI': 46, 'C 3': 3, 'Switchboard': 1, 'GMA': 4, 'RTE': 20, 'ERJ': 6, 'Le Robert': 2, 'NSP': 3, 'UMLS': 14, 'DUC': 15, 'BART': 4, 'BAT': 9, 'FEAT': 2, 'Semi': 13, 'TLFi': 2, 'Lefff': 7, 'CSI': 2, 'Ngram Statistics Package': 1, 'TUT': 4, 'NYT': 2, 'ELC': 1, 'TAC KBP': 2, 'Unified Medical Language System': 3, 'COW': 2, 'MALLET': 2, 'WSJ': 1, 'Machine Learning for Language Toolkit': 1, 'WOLF': 1, 'SUMO': 6, 'ESO': 2, 'frmg': 3, 'MIM': 2, 'ESLO': 1, 'ANNODIS': 2, 'DiSCo': 1, 'FCE': 1, 'ACD': 3, 'DMC': 1, 'MPQA': 2, 'SUC': 1}\n"
     ]
    }
   ],
   "source": [
    "print(stats_LRE)"
   ]
  },
  {
   "cell_type": "code",
   "execution_count": 11,
   "metadata": {},
   "outputs": [
    {
     "name": "stdout",
     "output_type": "stream",
     "text": [
      "SpearmanrResult(correlation=0.8660254037844387, pvalue=0.3333333333333332)\n"
     ]
    }
   ],
   "source": [
    "from scipy.stats import spearmanr\n",
    "\n",
    "a = [\"a\", \"b\", \"c\"]\n",
    "b = [\"a\", \"a\", \"c\"]\n",
    "\n",
    "print(spearmanr(a,b))"
   ]
  },
  {
   "cell_type": "code",
   "execution_count": 28,
   "metadata": {},
   "outputs": [
    {
     "name": "stderr",
     "output_type": "stream",
     "text": [
      "C:\\Users\\Fanny\\Anaconda3-2\\lib\\site-packages\\sklearn\\linear_model\\sag.py:334: ConvergenceWarning: The max_iter was reached which means the coef_ did not converge\n",
      "  \"the coef_ did not converge\", ConvergenceWarning)\n"
     ]
    },
    {
     "name": "stdout",
     "output_type": "stream",
     "text": [
      "base+bal+saga Count 1-1\t 0.5305194805194806\n",
      "base+bal+saga Count 3-7--char 0.565195998031819\n",
      "base+bal+iter+saga Count 1-1\t 0.4861407249466951\n",
      "base+bal+iter+saga Count 3-7--char 0.4904862579281184\n",
      "LogisticRegr_Bal_C=0.05 Count 1-1\t 0.5176491994177583\n",
      "LogisticRegr_Bal_C=0.05 Count 3-7--char 0.4904862579281184\n",
      "Decision Tree Count 1-1\t 0.6121244635193133\n",
      "Decision Tree Count 3-7--char 0.4883227176220807\n",
      "[0.4861407249466951, 'base+bal+iter+saga', 'Count 1-1\\t']\n",
      "[0.4883227176220807, 'Decision Tree', 'Count 3-7--char']\n",
      "[0.4904862579281184, 'LogisticRegr_Bal_C=0.05', 'Count 3-7--char']\n",
      "[0.4904862579281184, 'base+bal+iter+saga', 'Count 3-7--char']\n",
      "[0.5176491994177583, 'LogisticRegr_Bal_C=0.05', 'Count 1-1\\t']\n",
      "[0.5305194805194806, 'base+bal+saga', 'Count 1-1\\t']\n",
      "[0.565195998031819, 'base+bal+saga', 'Count 3-7--char']\n",
      "[0.6121244635193133, 'Decision Tree', 'Count 1-1\\t']\n"
     ]
    }
   ],
   "source": [
    "#### Tester vectoriseurs\n",
    "algo = LogisticRegression(multi_class=\"auto\", solver=\"lbfgs\", max_iter=500, class_weight=\"balanced\")\n",
    "from sklearn.feature_extraction.text import TfidfVectorizer\n",
    "from sklearn.tree import DecisionTreeClassifier\n",
    "from sklearn.ensemble import RandomForestClassifier\n",
    "from sklearn.naive_bayes import MultinomialNB\n",
    "#Balanced est indispensable\n",
    "classifiers = [\n",
    "    #[\"base+bal\", LogisticRegression(multi_class=\"auto\", solver=\"lbfgs\", class_weight=\"balanced\")\n",
    "    #],\n",
    "    #[\"base+bal+iter\", LogisticRegression(multi_class=\"auto\", solver=\"lbfgs\", max_iter=1000, class_weight=\"balanced\")\n",
    "    #],\n",
    "        [\"base+bal+saga\", LogisticRegression(multi_class=\"auto\", solver=\"saga\", class_weight=\"balanced\")\n",
    "    ],\n",
    "    [\"base+bal+iter+saga\", LogisticRegression(multi_class=\"auto\", solver=\"saga\", max_iter=1000, class_weight=\"balanced\")\n",
    "    ],\n",
    "    #[\"LogisticRegr_Bal_C=0.01\", LogisticRegression(multi_class=\"auto\", solver=\"saga\", C=0.01, n_jobs=2, max_iter=1000, class_weight=\"balanced\")],\n",
    "    [\"LogisticRegr_Bal_C=0.05\", LogisticRegression(multi_class=\"auto\", solver=\"saga\", C=0.05, n_jobs=2, max_iter=1000, class_weight=\"balanced\")],\n",
    "    [\"Decision Tree\", DecisionTreeClassifier()],\n",
    "    #[\"MNB\", MultinomialNB()],\n",
    "    #[\"RF_depth=10_estimators=100\", RandomForestClassifier(max_depth=10, n_estimators = 100, random_state=0)],\n",
    "]\n",
    "    \n",
    "\n",
    "#V = CountVectorizer(ngram_range=(3,5), analyzer=\"char\")\n",
    "list_vectorizer = [\n",
    "    [\"Count 1-1\\t\", CountVectorizer()],\n",
    "    [\"Count 3-7--char\", CountVectorizer(ngram_range=(3,7), analyzer=\"char\")],\n",
    "    #[\"tfidf\", TfidfVectorizer()],\n",
    "    #[\"tfidf 3-7--char\", TfidfVectorizer(ngram_range=(3,7), analyzer=\"char\")],\n",
    "]\n",
    "list_res = []\n",
    "for name, clf in classifiers:\n",
    "  for nom, this_V in list_vectorizer:\n",
    "    X1_fr = this_V.fit_transform(textes_fr)\n",
    "    Train_V = this_V.fit(textes_fr)\n",
    "    Y1_fr = classes_fr\n",
    "    \n",
    "    X_train_fr, X_test_fr, y_train_fr, y_test_fr = train_test_split(X1_fr, Y1_fr, test_size=0.3, random_state=0)\n",
    "    start = time.perf_counter()\n",
    "    clf_new = clf.fit(X_train_fr, y_train_fr)\n",
    "    end = time.perf_counter()\n",
    "    #print(\"... %.2f seconds\"%(round(end-start,2)))\n",
    "    pred_fr = clf_new.predict(X_test_fr)\n",
    "\n",
    "    conf_matrix_fr = confusion_matrix(y_test_fr, pred_fr)\n",
    "    #print(\"Classifieur 1\\n\",conf_matrix_en) #na/app 229/3 2/9\n",
    "    report_fr = classification_report(y_test_fr,pred_fr,output_dict=True)\n",
    "    print(name, nom, report_fr[\"macro avg\"][\"f1-score\"])\n",
    "\n",
    "    list_res.append([report_fr[\"macro avg\"][\"f1-score\"], name, nom] )\n",
    "for a in sorted(list_res):\n",
    "    print(a)"
   ]
  },
  {
   "cell_type": "code",
   "execution_count": 29,
   "metadata": {},
   "outputs": [
    {
     "name": "stdout",
     "output_type": "stream",
     "text": [
      "TALN 10\n"
     ]
    },
    {
     "ename": "ValueError",
     "evalue": "X has 217808 features per sample; expecting 4936",
     "output_type": "error",
     "traceback": [
      "\u001b[1;31m---------------------------------------------------------------------------\u001b[0m",
      "\u001b[1;31mValueError\u001b[0m                                Traceback (most recent call last)",
      "\u001b[1;32m<ipython-input-29-939c33fe8a7e>\u001b[0m in \u001b[0;36m<module>\u001b[1;34m\u001b[0m\n\u001b[0;32m     33\u001b[0m                 \u001b[0mpred_baseline\u001b[0m \u001b[1;33m=\u001b[0m \u001b[0mclasse\u001b[0m\u001b[1;33m\u001b[0m\u001b[1;33m\u001b[0m\u001b[0m\n\u001b[0;32m     34\u001b[0m             \u001b[0mX_test2\u001b[0m \u001b[1;33m=\u001b[0m \u001b[0mTrain_V\u001b[0m\u001b[1;33m.\u001b[0m\u001b[0mtransform\u001b[0m\u001b[1;33m(\u001b[0m\u001b[0ma_tester\u001b[0m\u001b[1;33m)\u001b[0m\u001b[1;33m\u001b[0m\u001b[1;33m\u001b[0m\u001b[0m\n\u001b[1;32m---> 35\u001b[1;33m             \u001b[0mY_pred2\u001b[0m \u001b[1;33m=\u001b[0m \u001b[0mclf_fr\u001b[0m\u001b[1;33m.\u001b[0m\u001b[0mpredict\u001b[0m\u001b[1;33m(\u001b[0m\u001b[0mX_test2\u001b[0m\u001b[1;33m)\u001b[0m\u001b[1;33m\u001b[0m\u001b[1;33m\u001b[0m\u001b[0m\n\u001b[0m\u001b[0;32m     36\u001b[0m         \u001b[1;32melse\u001b[0m\u001b[1;33m:\u001b[0m\u001b[1;33m\u001b[0m\u001b[1;33m\u001b[0m\u001b[0m\n\u001b[0;32m     37\u001b[0m             \u001b[0mpred_baseline\u001b[0m \u001b[1;33m=\u001b[0m \u001b[1;34m\"N/A\"\u001b[0m\u001b[1;33m\u001b[0m\u001b[1;33m\u001b[0m\u001b[0m\n",
      "\u001b[1;32m~\\Anaconda3-2\\lib\\site-packages\\sklearn\\linear_model\\base.py\u001b[0m in \u001b[0;36mpredict\u001b[1;34m(self, X)\u001b[0m\n\u001b[0;32m    279\u001b[0m             \u001b[0mPredicted\u001b[0m \u001b[1;32mclass\u001b[0m \u001b[0mlabel\u001b[0m \u001b[0mper\u001b[0m \u001b[0msample\u001b[0m\u001b[1;33m.\u001b[0m\u001b[1;33m\u001b[0m\u001b[1;33m\u001b[0m\u001b[0m\n\u001b[0;32m    280\u001b[0m         \"\"\"\n\u001b[1;32m--> 281\u001b[1;33m         \u001b[0mscores\u001b[0m \u001b[1;33m=\u001b[0m \u001b[0mself\u001b[0m\u001b[1;33m.\u001b[0m\u001b[0mdecision_function\u001b[0m\u001b[1;33m(\u001b[0m\u001b[0mX\u001b[0m\u001b[1;33m)\u001b[0m\u001b[1;33m\u001b[0m\u001b[1;33m\u001b[0m\u001b[0m\n\u001b[0m\u001b[0;32m    282\u001b[0m         \u001b[1;32mif\u001b[0m \u001b[0mlen\u001b[0m\u001b[1;33m(\u001b[0m\u001b[0mscores\u001b[0m\u001b[1;33m.\u001b[0m\u001b[0mshape\u001b[0m\u001b[1;33m)\u001b[0m \u001b[1;33m==\u001b[0m \u001b[1;36m1\u001b[0m\u001b[1;33m:\u001b[0m\u001b[1;33m\u001b[0m\u001b[1;33m\u001b[0m\u001b[0m\n\u001b[0;32m    283\u001b[0m             \u001b[0mindices\u001b[0m \u001b[1;33m=\u001b[0m \u001b[1;33m(\u001b[0m\u001b[0mscores\u001b[0m \u001b[1;33m>\u001b[0m \u001b[1;36m0\u001b[0m\u001b[1;33m)\u001b[0m\u001b[1;33m.\u001b[0m\u001b[0mastype\u001b[0m\u001b[1;33m(\u001b[0m\u001b[0mnp\u001b[0m\u001b[1;33m.\u001b[0m\u001b[0mint\u001b[0m\u001b[1;33m)\u001b[0m\u001b[1;33m\u001b[0m\u001b[1;33m\u001b[0m\u001b[0m\n",
      "\u001b[1;32m~\\Anaconda3-2\\lib\\site-packages\\sklearn\\linear_model\\base.py\u001b[0m in \u001b[0;36mdecision_function\u001b[1;34m(self, X)\u001b[0m\n\u001b[0;32m    260\u001b[0m         \u001b[1;32mif\u001b[0m \u001b[0mX\u001b[0m\u001b[1;33m.\u001b[0m\u001b[0mshape\u001b[0m\u001b[1;33m[\u001b[0m\u001b[1;36m1\u001b[0m\u001b[1;33m]\u001b[0m \u001b[1;33m!=\u001b[0m \u001b[0mn_features\u001b[0m\u001b[1;33m:\u001b[0m\u001b[1;33m\u001b[0m\u001b[1;33m\u001b[0m\u001b[0m\n\u001b[0;32m    261\u001b[0m             raise ValueError(\"X has %d features per sample; expecting %d\"\n\u001b[1;32m--> 262\u001b[1;33m                              % (X.shape[1], n_features))\n\u001b[0m\u001b[0;32m    263\u001b[0m \u001b[1;33m\u001b[0m\u001b[0m\n\u001b[0;32m    264\u001b[0m         scores = safe_sparse_dot(X, self.coef_.T,\n",
      "\u001b[1;31mValueError\u001b[0m: X has 217808 features per sample; expecting 4936"
     ]
    }
   ],
   "source": [
    "### ROC curve\n",
    "#data_annote = [[\"ACL\", \"420-acl_annotation_bender.json\"], [\"LREC\", \"551-lrec_annotation_bender.json\"]]\n",
    "data_annote = [[\"TALN\",\"annotation_taln.json\"]]\n",
    "\n",
    "res_ROC = {}\n",
    "for tranche in range(10, 110, 10):\n",
    "  dic_resultats = {}\n",
    "  for conf_name, json_path in data_annote:\n",
    "    print(conf_name, tranche)\n",
    "    dic_resultats[conf_name] = {\"Sentence\":[], \"Baseline\":[], \"Baseline_LRE\":[]}\n",
    "    with open(json_path) as f:\n",
    "        dic_conf = json.load(f)\n",
    "    for path_article, infos_article in dic_conf.items():\n",
    "        classe = infos_article[\"class\"]\n",
    "        if classe ==\"Non-déductible\" or classe ==\"Non-Applicable\":\n",
    "            classe=\"N/A\"\n",
    "        chaine = read_file(path_article)\n",
    "        has_LRE = False\n",
    "        chaine = chaine.lower()\n",
    "        phrases = chaine.split(\".\")\n",
    "        a_tester = []\n",
    "        for cpt, phrase in enumerate(phrases):\n",
    "            if cpt>(len(phrases)*tranche/100):\n",
    "                break\n",
    "            for mot in phrase.split():\n",
    "                for l in liste_lang:\n",
    "                    if mot == l:\n",
    "                        a_tester.append(phrase)\n",
    "        if len(a_tester)>0:\n",
    "            pred_baseline = \"Appliquée\"\n",
    "            pred_LRE = pred_baseline\n",
    "            if classe ==\"Déductible\":#pour avoir aussi les déductibles\n",
    "                pred_baseline = classe\n",
    "            X_test2 = Train_V.transform(a_tester)\n",
    "            Y_pred2 = clf_fr.predict(X_test2)\n",
    "        else:\n",
    "            pred_baseline = \"N/A\"\n",
    "            Y_pred2= [[\"N/A\"]]\n",
    "            pred_LRE = pred_baseline\n",
    "            if has_LRE==True:\n",
    "                pred_LRE = \"Déductible\"\n",
    "        if \"appliquée\" in Y_pred2:\n",
    "            pred_sentence = \"Appliquée\"\n",
    "            if classe ==\"Déductible\":#pour avoir aussi les déductibles\n",
    "                pred_sentence = classe\n",
    "        else:\n",
    "            pred_sentence = \"N/A\"        \n",
    "        dic_resultats[conf_name][\"Sentence\"].append([classe, pred_sentence])\n",
    "        dic_resultats[conf_name][\"Baseline\"].append([classe, pred_baseline])\n",
    "        dic_resultats[conf_name][\"Baseline_LRE\"].append([classe, pred_LRE])\n",
    "    res_ROC[tranche] = dic_resultats"
   ]
  },
  {
   "cell_type": "code",
   "execution_count": 18,
   "metadata": {},
   "outputs": [
    {
     "name": "stdout",
     "output_type": "stream",
     "text": [
      "dict_keys([])\n"
     ]
    }
   ],
   "source": [
    "print(res_ROC.keys())"
   ]
  },
  {
   "cell_type": "code",
   "execution_count": 17,
   "metadata": {},
   "outputs": [],
   "source": [
    "#with open(\"resultats_roc.json\", \"w\") as w:\n",
    "#    w.write(json.dumps(res_ROC, indent = 2))"
   ]
  },
  {
   "cell_type": "code",
   "execution_count": 19,
   "metadata": {},
   "outputs": [
    {
     "name": "stdout",
     "output_type": "stream",
     "text": [
      "LogisticRegression(C=1.0, class_weight='balanced', dual=False,\n",
      "          fit_intercept=True, intercept_scaling=1, max_iter=500,\n",
      "          multi_class='auto', n_jobs=None, penalty='l2', random_state=None,\n",
      "          solver='saga', tol=0.0001, verbose=0, warm_start=False)\n"
     ]
    }
   ],
   "source": [
    "print(clf_fr)"
   ]
  },
  {
   "cell_type": "code",
   "execution_count": 21,
   "metadata": {},
   "outputs": [],
   "source": [
    "liste_data_conf = [[\"TALN\", \"archives_Boudin_txt/archives_Boudin_txt/*/actes\"]]#, [\"ACL\"]]\n",
    "for name_conf, path_conf in liste_data_conf:\n",
    "    liste_path = glob.glob(path_conf)"
   ]
  }
 ],
 "metadata": {
  "kernelspec": {
   "display_name": "Python 3",
   "language": "python",
   "name": "python3"
  },
  "language_info": {
   "codemirror_mode": {
    "name": "ipython",
    "version": 3
   },
   "file_extension": ".py",
   "mimetype": "text/x-python",
   "name": "python",
   "nbconvert_exporter": "python",
   "pygments_lexer": "ipython3",
   "version": "3.7.5"
  }
 },
 "nbformat": 4,
 "nbformat_minor": 2
}
